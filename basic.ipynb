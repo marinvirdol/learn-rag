{
 "cells": [
  {
   "cell_type": "markdown",
   "metadata": {},
   "source": [
    "**1. Set up Asyncio**\n",
    "We need to handle async operations within our Jupyter Notebook environment. "
   ]
  },
  {
   "cell_type": "code",
   "execution_count": 1,
   "metadata": {},
   "outputs": [],
   "source": [
    "import nest_asyncio\n",
    "nest_asyncio.apply()"
   ]
  },
  {
   "cell_type": "markdown",
   "metadata": {},
   "source": [
    "**2. Set up Qdrant vector database**\n",
    "We'll use Qdrant as our vector database. Here we are going to store and retrieve vectore embeddings. \n",
    "\n",
    "Collections in Qdrant serve as the primary organisational unit for storing and managing vector data.\n",
    "Collections are designed to group similar or related vectors together, allowing for efficient search and retrieval operations within that group.\n",
    "\n",
    "Vectore requirements\n",
    "- all vectors within a collection must have the same dimensionality\n",
    "- a single distance metric is used for comparing vectors in a collection\n",
    "\n",
    "Supported distance metrics:\n",
    "- dot product\n",
    "- cosine\n",
    "- euclidean\n",
    "- manhattan"
   ]
  },
  {
   "cell_type": "code",
   "execution_count": 2,
   "metadata": {},
   "outputs": [],
   "source": [
    "import qdrant_client\n",
    "\n",
    "collection_name = \"chat_with_docs\"\n",
    "\n",
    "client = qdrant_client.QdrantClient(url=\"http://localhost:6334\")\n"
   ]
  },
  {
   "cell_type": "markdown",
   "metadata": {},
   "source": [
    "**3. Read the documents**\n",
    "Load the document from the specified path and extract their contents for use in our RAG pipeline."
   ]
  },
  {
   "cell_type": "code",
   "execution_count": 4,
   "metadata": {},
   "outputs": [],
   "source": [
    "from llama_index.core import SimpleDirectoryReader\n",
    "\n",
    "input_dir_path = \"./docs\"\n",
    "\n",
    "loader = SimpleDirectoryReader(\n",
    "  input_dir=input_dir_path,\n",
    "  required_exts=[\".pdf\"],\n",
    "  recursive=True,\n",
    ")\n",
    "\n",
    "docs = loader.load_data()"
   ]
  },
  {
   "cell_type": "code",
   "execution_count": 5,
   "metadata": {},
   "outputs": [
    {
     "data": {
      "text/plain": [
       "(list, 32)"
      ]
     },
     "execution_count": 5,
     "metadata": {},
     "output_type": "execute_result"
    }
   ],
   "source": [
    "type(docs), len(docs)"
   ]
  }
 ],
 "metadata": {
  "kernelspec": {
   "display_name": ".venv",
   "language": "python",
   "name": "python3"
  },
  "language_info": {
   "codemirror_mode": {
    "name": "ipython",
    "version": 3
   },
   "file_extension": ".py",
   "mimetype": "text/x-python",
   "name": "python",
   "nbconvert_exporter": "python",
   "pygments_lexer": "ipython3",
   "version": "3.12.1"
  }
 },
 "nbformat": 4,
 "nbformat_minor": 2
}
